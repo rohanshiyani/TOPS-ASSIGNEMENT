{
 "cells": [
  {
   "cell_type": "code",
   "execution_count": null,
   "id": "eaf88dcc",
   "metadata": {},
   "outputs": [],
   "source": [
    "from django.db import models\n",
    "from rest_framework import serializers\n",
    "from .models import Book\n",
    "from rest_framework import generics\n",
    "from .models import Book\n",
    "from .serializers import BookSerializer\n",
    "from django.urls import path\n",
    "from .views import BookList, BookDetail\n",
    "from django.urls import include, path\n",
    "\n",
    "\n",
    "class Book(models.Model):\n",
    "    title = models.CharField(max_length=100)\n",
    "    author = models.CharField(max_length=100)\n",
    "    isbn = models.CharField(max_length=20)\n",
    "    publisher = models.CharField(max_length=100)\n",
    "\n",
    "    def __str__(self):\n",
    "        return self.title\n",
    "    \n",
    "class BookSerializer(serializers.ModelSerializer):\n",
    "    class Meta:\n",
    "        model = Book\n",
    "        fields = '__all__'\n",
    "        \n",
    "        \n",
    "class BookList(generics.ListCreateAPIView):\n",
    "    queryset = Book.objects.all()\n",
    "    serializer_class = BookSerializer\n",
    "\n",
    "class BookDetail(generics.RetrieveUpdateDestroyAPIView):\n",
    "    queryset = Book.objects.all()\n",
    "    serializer_class = BookSerializer \n",
    "\n",
    "    \n",
    "urlpatterns = [\n",
    "    path('books/', BookList.as_view(), name='book_list'),\n",
    "    path('books/<int:pk>/', BookDetail.as_view(), name='book_detail'),\n",
    "    path('api/', include('appname.urls'))\n",
    "]    \n",
    "    \n",
    "        \n",
    "        \n",
    "    "
   ]
  }
 ],
 "metadata": {
  "kernelspec": {
   "display_name": "Python 3 (ipykernel)",
   "language": "python",
   "name": "python3"
  },
  "language_info": {
   "codemirror_mode": {
    "name": "ipython",
    "version": 3
   },
   "file_extension": ".py",
   "mimetype": "text/x-python",
   "name": "python",
   "nbconvert_exporter": "python",
   "pygments_lexer": "ipython3",
   "version": "3.9.12"
  }
 },
 "nbformat": 4,
 "nbformat_minor": 5
}
