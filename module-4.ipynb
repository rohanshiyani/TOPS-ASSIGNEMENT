{
 "cells": [
  {
   "cell_type": "markdown",
   "id": "57a99d57",
   "metadata": {},
   "source": [
    "1.What is File function in python? What is keywords to create and write file."
   ]
  },
  {
   "cell_type": "markdown",
   "id": "391142f7",
   "metadata": {},
   "source": [
    "-->Python too supports file handling and allows users to handle files i.e., to read and write files, along with many other file handling options, to operate on files. The concept of file handling has stretched over various other languages, but the implementation is either complicated or lengthy, but like other concepts of Python, this concept here is also easy and short. Python treats files differently as text or binary and this is important. Each line of code includes a sequence of characters and they form a text file. Each line of a file is terminated with a special character, called the EOL or End of Line characters like comma {,} or newline character. It ends the current line and tells the interpreter a new one has begun. Let’s start with the reading and writing files. "
   ]
  },
  {
   "cell_type": "markdown",
   "id": "647e9aed",
   "metadata": {},
   "source": [
    "2.Write a Python program to read an entire text file."
   ]
  },
  {
   "cell_type": "code",
   "execution_count": 3,
   "id": "b414e851",
   "metadata": {},
   "outputs": [
    {
     "name": "stdout",
     "output_type": "stream",
     "text": [
      "Output of Read function is \n",
      "Hello \n",
      "This is Delhi \n",
      "This is Paris \n",
      "This is London \n",
      "\n",
      "\n",
      "Output of Readline function is \n",
      "Hello \n",
      "\n",
      "\n",
      "Output of Read(9) function is \n",
      "Hello \n",
      "Th\n",
      "\n",
      "Output of Readline(9) function is \n",
      "Hello \n",
      "\n",
      "Output of Readlines function is \n",
      "['Hello \\n', 'This is Delhi \\n', 'This is Paris \\n', 'This is London \\n']\n",
      "\n"
     ]
    }
   ],
   "source": [
    "file1 = open(\"myfile.txt\",\"w\")\n",
    "L = [\"This is Delhi \\n\",\"This is Paris \\n\",\"This is London \\n\"]\n",
    "\n",
    "file1.write(\"Hello \\n\")\n",
    "file1.writelines(L)\n",
    "file1.close()\n",
    "\n",
    "file1 = open(\"myfile.txt\",\"r+\")\n",
    "\n",
    "print(\"Output of Read function is \")\n",
    "print(file1.read())\n",
    "print()\n",
    "\n",
    "file1.seek(0)\n",
    "\n",
    "print( \"Output of Readline function is \")\n",
    "print(file1.readline())\n",
    "print()\n",
    "\n",
    "file1.seek(0)\n",
    "\n",
    "print(\"Output of Read(9) function is \")\n",
    "print(file1.read(9))\n",
    "print()\n",
    "\n",
    "file1.seek(0)\n",
    "\n",
    "print(\"Output of Readline(9) function is \")\n",
    "print(file1.readline(9))\n",
    "\n",
    "file1.seek(0)\n",
    "\n",
    "print(\"Output of Readlines function is \")\n",
    "print(file1.readlines())\n",
    "print()\n",
    "file1.close()\n"
   ]
  },
  {
   "cell_type": "markdown",
   "id": "82075398",
   "metadata": {},
   "source": [
    "3.Write a Python program to append text to a file and display the text. "
   ]
  },
  {
   "cell_type": "code",
   "execution_count": 4,
   "id": "b85e68fe",
   "metadata": {},
   "outputs": [
    {
     "name": "stdout",
     "output_type": "stream",
     "text": [
      "Output of Readlines after appending\n",
      "This is Delhi \n",
      "This is Paris \n",
      "This is LondonToday \n",
      "\n",
      "\n",
      "Output of Readlines after writing\n",
      "Tomorrow \n",
      "\n",
      "\n"
     ]
    }
   ],
   "source": [
    "file1 = open(\"myfile.txt\", \"w\")\n",
    "L = [\"This is Delhi \\n\", \"This is Paris \\n\", \"This is London\"]\n",
    "file1.writelines(L)\n",
    "file1.close()\n",
    "\n",
    "file1 = open(\"myfile.txt\", \"a\")\n",
    "file1.write(\"Today \\n\")\n",
    "file1.close()\n",
    "\n",
    "file1 = open(\"myfile.txt\", \"r\")\n",
    "print(\"Output of Readlines after appending\")\n",
    "print(file1.read())\n",
    "print()\n",
    "file1.close()\n",
    "\n",
    "file1 = open(\"myfile.txt\", \"w\")\n",
    "file1.write(\"Tomorrow \\n\")\n",
    "file1.close()\n",
    "\n",
    "file1 = open(\"myfile.txt\", \"r\")\n",
    "print(\"Output of Readlines after writing\")\n",
    "print(file1.read())\n",
    "print()\n",
    "file1.close()\n"
   ]
  },
  {
   "cell_type": "markdown",
   "id": "1314af5f",
   "metadata": {},
   "source": [
    "4.Write a Python program to read first n lines of a file"
   ]
  },
  {
   "cell_type": "code",
   "execution_count": 6,
   "id": "ed7e05af",
   "metadata": {},
   "outputs": [
    {
     "name": "stdout",
     "output_type": "stream",
     "text": [
      "Tomorrow \n",
      "\n"
     ]
    }
   ],
   "source": [
    "def file_read_from_head(fname, nlines):\n",
    "        from itertools import islice\n",
    "        with open(fname) as f:\n",
    "                for line in islice(f, nlines):\n",
    "                        print(line)\n",
    "file_read_from_head('myfile.txt',2)"
   ]
  },
  {
   "cell_type": "markdown",
   "id": "e4d99558",
   "metadata": {},
   "source": [
    "5.Write a Python program to read last n lines of a file. "
   ]
  },
  {
   "cell_type": "markdown",
   "id": "0efce5db",
   "metadata": {},
   "source": [
    "6.Write a Python program to read a file line by line and store it into a list"
   ]
  },
  {
   "cell_type": "code",
   "execution_count": 9,
   "id": "c5544cde",
   "metadata": {},
   "outputs": [
    {
     "name": "stdout",
     "output_type": "stream",
     "text": [
      "['Tomorrow \\n']\n",
      "['Tomorrow']\n"
     ]
    }
   ],
   "source": [
    "with open(\"myfile.txt\") as f:\n",
    " content_list = f.readlines()\n",
    "\n",
    "# print the list\n",
    "print(content_list)\n",
    "\n",
    "# remove new line characters\n",
    "content_list = [x.strip() for x in content_list]\n",
    "print(content_list)"
   ]
  },
  {
   "cell_type": "markdown",
   "id": "a894a423",
   "metadata": {},
   "source": [
    "7.Write a Python program to read a file line by line store it into a variable."
   ]
  },
  {
   "cell_type": "markdown",
   "id": "653147dd",
   "metadata": {},
   "source": [
    "8.Explain Exception handling? What is an Error in Python?"
   ]
  },
  {
   "cell_type": "markdown",
   "id": "456edf54",
   "metadata": {},
   "source": [
    "\n",
    "Ans--An exception is an event, which occurs during the execution of a program that disrupts the normal flow\n",
    "of the program's instructions. In general, when a Python script encounters a situation that it cannot cope\n",
    "with, it raises an exception. An exception is a Python object that represents an error.\n"
   ]
  },
  {
   "cell_type": "markdown",
   "id": "abfd091d",
   "metadata": {},
   "source": [
    "9.How many except statements can a try-except block have? Name Some built-in exception classes"
   ]
  },
  {
   "cell_type": "markdown",
   "id": "8d0dd94b",
   "metadata": {},
   "source": [
    "More than 0"
   ]
  },
  {
   "cell_type": "markdown",
   "id": "724fe3ae",
   "metadata": {},
   "source": [
    "10.When will the else part of try-except-else be executed?\n"
   ]
  },
  {
   "cell_type": "markdown",
   "id": "efc40bd0",
   "metadata": {},
   "source": [
    "when all the code in try block is right\n"
   ]
  },
  {
   "cell_type": "markdown",
   "id": "f330635d",
   "metadata": {},
   "source": [
    "11.Can one block of except statements handle multiple exception?"
   ]
  },
  {
   "cell_type": "markdown",
   "id": "ac740743",
   "metadata": {},
   "source": [
    "Yes\n"
   ]
  },
  {
   "cell_type": "markdown",
   "id": "40895660",
   "metadata": {},
   "source": [
    "12. When is the finally block executed?\n"
   ]
  },
  {
   "cell_type": "markdown",
   "id": "13595ca7",
   "metadata": {},
   "source": [
    "Always"
   ]
  },
  {
   "cell_type": "markdown",
   "id": "fbad2b59",
   "metadata": {},
   "source": [
    "13.What happens when „1‟== 1 is executed?"
   ]
  },
  {
   "cell_type": "markdown",
   "id": "11d27a9e",
   "metadata": {},
   "source": [
    "False"
   ]
  },
  {
   "cell_type": "markdown",
   "id": "c1f6d273",
   "metadata": {},
   "source": [
    "14.How Do You Handle Exceptions With Try/Except/Finally In Python? Explain with coding snippets?"
   ]
  },
  {
   "cell_type": "code",
   "execution_count": 10,
   "id": "a89a4bc8",
   "metadata": {},
   "outputs": [
    {
     "name": "stdout",
     "output_type": "stream",
     "text": [
      "enter correct number\n",
      "cool\n"
     ]
    }
   ],
   "source": [
    "try:\n",
    " a=10\n",
    " b=0\n",
    " print(a/b)\n",
    "except:\n",
    " print(\"enter correct number\")\n",
    " \n",
    "finally:\n",
    " print(\"cool\")\n",
    "\n"
   ]
  },
  {
   "cell_type": "markdown",
   "id": "89068870",
   "metadata": {},
   "source": [
    "15.Write python program that user to enter only odd numbers, else will raise an exception. "
   ]
  },
  {
   "cell_type": "code",
   "execution_count": 13,
   "id": "e8b227c8",
   "metadata": {},
   "outputs": [
    {
     "name": "stdout",
     "output_type": "stream",
     "text": [
      "enter a number25\n",
      "odd number\n"
     ]
    }
   ],
   "source": [
    "try:\n",
    "    user=int(input(\"enter a number\"))\n",
    "    if user%2==1:\n",
    "        print(\"odd number\")\n",
    "    else: \n",
    "        raise \n",
    "except:\n",
    "    print(\"Number is Even\")\n"
   ]
  },
  {
   "cell_type": "markdown",
   "id": "9333c6fe",
   "metadata": {},
   "source": [
    "16.What are oops concepts? Is multiple inheritance supported in java\n"
   ]
  },
  {
   "cell_type": "markdown",
   "id": "e5b4219b",
   "metadata": {},
   "source": [
    "- Oops stands for object oriented programming language It has 4 pillars 1-Encapsulation 2-\n",
    "pollymorplism 3-inheritance 4-Abstaction\n",
    "OOps deals with class and objects Multiple inheritance is not supported in java"
   ]
  },
  {
   "cell_type": "markdown",
   "id": "0cff8c24",
   "metadata": {},
   "source": [
    "17.How to Define a Class in Python? What Is Self? Give An Example Of A Python Class"
   ]
  },
  {
   "cell_type": "code",
   "execution_count": null,
   "id": "eebf7cfc",
   "metadata": {},
   "outputs": [],
   "source": [
    "Ans-With the hely of class keyword we define a class in python\n",
    "self refers to the object of currect class\n",
    "Example of python class\n",
    "class xyz:\n",
    "    def funct(self):\n",
    "    body\n"
   ]
  },
  {
   "cell_type": "markdown",
   "id": "bbd04020",
   "metadata": {},
   "source": [
    "18.Write a Python class named Rectangle constructed by a length and width and a method which will compute the area of a rectangle "
   ]
  },
  {
   "cell_type": "code",
   "execution_count": 15,
   "id": "6062b998",
   "metadata": {},
   "outputs": [
    {
     "name": "stdout",
     "output_type": "stream",
     "text": [
      "Area of rectangle is 200\n"
     ]
    }
   ],
   "source": [
    "class rectangle:\n",
    "    def __init__(self,l,b):\n",
    "        self.length=l\n",
    "        self.breath=b\n",
    "    def area(self):\n",
    "        print(f'Area of rectangle is {self.length *self.breath}')\n",
    " \n",
    " \n",
    "a=rectangle(10,20)\n",
    "a.area()\n"
   ]
  },
  {
   "cell_type": "markdown",
   "id": "36b6d490",
   "metadata": {},
   "source": [
    "19.Write a Python class named Circle constructed by a radius and two methods which will compute the area and the perimeter of a circle "
   ]
  },
  {
   "cell_type": "code",
   "execution_count": 16,
   "id": "9a8491ad",
   "metadata": {},
   "outputs": [
    {
     "name": "stdout",
     "output_type": "stream",
     "text": [
      "Area of circle is 314.2857142857143\n",
      "Perimeter of circle is 62.857142857142854\n"
     ]
    }
   ],
   "source": [
    "class circle:\n",
    "    def __init__(self,radius):\n",
    "        self.pi=22/7\n",
    "        self.r=radius\n",
    " \n",
    "    def circlearea(self):\n",
    "        print(f'Area of circle is {self.r**2*self.pi}')\n",
    " \n",
    "    def circleperimeter(self):\n",
    "        print(f'Perimeter of circle is {2*self.pi*self.r}')\n",
    " \n",
    " \n",
    " \n",
    "a=circle(10)\n",
    "a.circlearea()\n",
    "a.circleperimeter()\n"
   ]
  },
  {
   "cell_type": "markdown",
   "id": "16acd2f8",
   "metadata": {},
   "source": [
    "20.Explain Inheritance in Python with an example? What is init? Or What Is A Constructor In Python?"
   ]
  },
  {
   "cell_type": "markdown",
   "id": "29e6fead",
   "metadata": {},
   "source": [
    "Ans--Inheritance means when sub class can access all the properties of super class is k\n",
    "init is a function\n",
    "init is also know as constructor\n",
    "constructor is used for initialization"
   ]
  },
  {
   "cell_type": "markdown",
   "id": "368ec97c",
   "metadata": {},
   "source": [
    "21.What is Instantiation in terms of OOP terminology?\n"
   ]
  },
  {
   "cell_type": "markdown",
   "id": "b0e0a843",
   "metadata": {},
   "source": [
    " instiation means creation of object\n"
   ]
  },
  {
   "cell_type": "markdown",
   "id": "fe37491e",
   "metadata": {},
   "source": [
    "22.What is used to check whether an object o is an instance of class A? \n"
   ]
  },
  {
   "cell_type": "markdown",
   "id": "e0f792a0",
   "metadata": {},
   "source": [
    "Now, let us see what happens when we use the isinstance() method for native classes in python like int, float, str, list, dict, and tuple. Output: Let’s understand what’s happening here: 1. At first, we have initialized variables of different types with some values 2. "
   ]
  },
  {
   "cell_type": "markdown",
   "id": "aae8bf82",
   "metadata": {},
   "source": [
    "23.Now, let us see what happens when we use the isinstance() method for native classes in python like int, float, str, list, dict, and tuple. Output: Let’s understand what’s happening here: 1. At first, we have initialized variables of different types with some values 2. "
   ]
  },
  {
   "cell_type": "markdown",
   "id": "6405ba4d",
   "metadata": {},
   "source": [
    "Ans--You are dealing with a many-to-many relationship, and that is where the uniqueness\n",
    "Consider a course session table, joining professor and course. \n",
    "This gets more complicated if you have a team teaching a session.\n",
    "This would require an additional subtype or relational table.\n"
   ]
  },
  {
   "cell_type": "markdown",
   "id": "65620da3",
   "metadata": {},
   "source": [
    "24.What relationship is appropriate for Student and Person?"
   ]
  },
  {
   "cell_type": "markdown",
   "id": "05177ff2",
   "metadata": {},
   "source": [
    "Ans--Strong relationships between adults and students must include: expressing care, \n",
    " challenging growth, providing support, \n",
    " sharing power, and expanding possibilities"
   ]
  },
  {
   "cell_type": "code",
   "execution_count": null,
   "id": "801cee69",
   "metadata": {},
   "outputs": [],
   "source": []
  }
 ],
 "metadata": {
  "kernelspec": {
   "display_name": "Python 3",
   "language": "python",
   "name": "python3"
  },
  "language_info": {
   "codemirror_mode": {
    "name": "ipython",
    "version": 3
   },
   "file_extension": ".py",
   "mimetype": "text/x-python",
   "name": "python",
   "nbconvert_exporter": "python",
   "pygments_lexer": "ipython3",
   "version": "3.8.8"
  }
 },
 "nbformat": 4,
 "nbformat_minor": 5
}
